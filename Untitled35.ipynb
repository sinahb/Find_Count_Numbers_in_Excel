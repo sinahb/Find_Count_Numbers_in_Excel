{
 "cells": [
  {
   "cell_type": "code",
   "execution_count": null,
   "id": "4ace6f5a",
   "metadata": {},
   "outputs": [],
   "source": [
    "import pandas as pd\n",
    "from collections import Counter\n",
    "\n",
    "def extract_numbers_from_excel(excel_file):\n",
    "    # خواندن فایل اکسل\n",
    "    df = pd.read_excel(excel_file, engine='openpyxl')\n",
    "    \n",
    "    # استخراج تمام اعداد از فایل اکسل\n",
    "    numbers = []\n",
    "    for col in df.columns:\n",
    "        numbers.extend(df[col].dropna().tolist())\n",
    "    \n",
    "    #  فیلتر کردن فقط اعداد صحیح و اعشاری\n",
    "    numbers = [num for num in numbers if isinstance(num, (int, float))]\n",
    "    \n",
    "    # حذف اعداد تکراری و مرتب کردن آنها\n",
    "    unique_numbers = sorted(set(numbers))\n",
    "    \n",
    "    # ذخیره اعداد در فایل txt\n",
    "#    with open('numbers.txt', 'w') as f:\n",
    "#        for number in unique_numbers:\n",
    "#            f.write(f\"{number}\\n\")\n",
    "    \n",
    "    # شمارش تعداد تکرار هر عدد\n",
    "    number_counts = Counter(numbers)\n",
    "    \n",
    "    return number_counts\n",
    "\n",
    "# فایل ورودی\n",
    "excel_file = 'input.xlsx'\n",
    "number_counts = extract_numbers_from_excel(excel_file)\n",
    "\n",
    "# نمایش تعداد تکرار هر عدد\n",
    "for number, count in number_counts.items():\n",
    "    print(f\"Number: {number}, Count: {count}\")\n"
   ]
  },
  {
   "cell_type": "code",
   "execution_count": null,
   "id": "d487ea57",
   "metadata": {},
   "outputs": [],
   "source": []
  }
 ],
 "metadata": {
  "kernelspec": {
   "display_name": "Python 3 (ipykernel)",
   "language": "python",
   "name": "python3"
  },
  "language_info": {
   "codemirror_mode": {
    "name": "ipython",
    "version": 3
   },
   "file_extension": ".py",
   "mimetype": "text/x-python",
   "name": "python",
   "nbconvert_exporter": "python",
   "pygments_lexer": "ipython3",
   "version": "3.10.9"
  }
 },
 "nbformat": 4,
 "nbformat_minor": 5
}
